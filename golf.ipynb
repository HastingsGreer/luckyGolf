{
 "cells": [
  {
   "cell_type": "code",
   "execution_count": 2,
   "metadata": {},
   "outputs": [
    {
     "data": {
      "text/plain": [
       "× (generic function with 1 method)"
      ]
     },
     "execution_count": 2,
     "metadata": {},
     "output_type": "execute_result"
    }
   ],
   "source": [
    "using StaticArrays\n",
    "\n",
    "const Vec = SVector{3, Float64}\n",
    "\n",
    "struct TreeNode\n",
    "    radius::Float64\n",
    "    center::Vec\n",
    "    children::SVector{8, Int64}\n",
    "    data::Int64\n",
    "end\n",
    "\n",
    "function TreeNode(radius, center)\n",
    "    return TreeNode(radius, center, [0, 0, 0, 0, 0, 0, 0, 0], 0)\n",
    "end\n",
    "\n",
    "struct Arc\n",
    "    origin::Vec\n",
    "    velocity::Vec\n",
    "end\n",
    "\n",
    "function ×(a, b)::Vec\n",
    "    a1, a2, a3 = a\n",
    "    b1, b2, b3 = b\n",
    "    [a2*b3-a3*b2, a3*b1-a1*b3, a1*b2-a2*b1]\n",
    "end\n",
    "\n",
    "function "
   ]
  },
  {
   "cell_type": "code",
   "execution_count": 3,
   "metadata": {},
   "outputs": [
    {
     "data": {
      "text/plain": [
       "true"
      ]
     },
     "execution_count": 3,
     "metadata": {},
     "output_type": "execute_result"
    }
   ],
   "source": [
    "isbits(TreeNode(1, [0, 0, 0]))"
   ]
  },
  {
   "cell_type": "code",
   "execution_count": 7,
   "metadata": {},
   "outputs": [
    {
     "data": {
      "text/plain": [
       "3-element SArray{Tuple{3},Float64,1,3} with indices SOneTo(3):\n",
       " 4.0\n",
       " 4.0\n",
       " 4.0"
      ]
     },
     "execution_count": 7,
     "metadata": {},
     "output_type": "execute_result"
    }
   ],
   "source": [
    "Vec(1, 1, 1) + Vec(3, 3, 3)"
   ]
  },
  {
   "cell_type": "code",
   "execution_count": 13,
   "metadata": {},
   "outputs": [
    {
     "data": {
      "text/plain": [
       "SArray{Tuple{Float64},3,1,Float64}"
      ]
     },
     "execution_count": 13,
     "metadata": {},
     "output_type": "execute_result"
    }
   ],
   "source": [
    "SVe"
   ]
  },
  {
   "cell_type": "code",
   "execution_count": 15,
   "metadata": {},
   "outputs": [
    {
     "name": "stdout",
     "output_type": "stream",
     "text": [
      "search: \u001b[0m\u001b[1mS\u001b[22m\u001b[0m\u001b[1mV\u001b[22m\u001b[0m\u001b[1me\u001b[22m\u001b[0m\u001b[1mc\u001b[22m\u001b[0m\u001b[1mt\u001b[22m\u001b[0m\u001b[1mo\u001b[22m\u001b[0m\u001b[1mr\u001b[22m @\u001b[0m\u001b[1mS\u001b[22m\u001b[0m\u001b[1mV\u001b[22m\u001b[0m\u001b[1me\u001b[22m\u001b[0m\u001b[1mc\u001b[22m\u001b[0m\u001b[1mt\u001b[22m\u001b[0m\u001b[1mo\u001b[22m\u001b[0m\u001b[1mr\u001b[22m Den\u001b[0m\u001b[1ms\u001b[22me\u001b[0m\u001b[1mV\u001b[22m\u001b[0m\u001b[1me\u001b[22m\u001b[0m\u001b[1mc\u001b[22m\u001b[0m\u001b[1mt\u001b[22m\u001b[0m\u001b[1mo\u001b[22m\u001b[0m\u001b[1mr\u001b[22m \u001b[0m\u001b[1mS\u001b[22mized\u001b[0m\u001b[1mV\u001b[22m\u001b[0m\u001b[1me\u001b[22m\u001b[0m\u001b[1mc\u001b[22m\u001b[0m\u001b[1mt\u001b[22m\u001b[0m\u001b[1mo\u001b[22m\u001b[0m\u001b[1mr\u001b[22m \u001b[0m\u001b[1mS\u001b[22mtatic\u001b[0m\u001b[1mV\u001b[22m\u001b[0m\u001b[1me\u001b[22m\u001b[0m\u001b[1mc\u001b[22m\u001b[0m\u001b[1mt\u001b[22m\u001b[0m\u001b[1mo\u001b[22m\u001b[0m\u001b[1mr\u001b[22m Ab\u001b[0m\u001b[1ms\u001b[22mtract\u001b[0m\u001b[1mV\u001b[22m\u001b[0m\u001b[1me\u001b[22m\u001b[0m\u001b[1mc\u001b[22m\u001b[0m\u001b[1mt\u001b[22m\u001b[0m\u001b[1mo\u001b[22m\u001b[0m\u001b[1mr\u001b[22m\n",
      "\n"
     ]
    },
    {
     "data": {
      "text/latex": [
       "\\begin{verbatim}\n",
       "SVector{S, T}(x::NTuple{S, T})\n",
       "SVector{S, T}(x1, x2, x3, ...)\n",
       "\\end{verbatim}\n",
       "Construct a statically-sized vector \\texttt{SVector}. Since this type is immutable, the data must be provided upon construction and cannot be mutated later. Constructors may drop the \\texttt{T} and \\texttt{S} parameters if they are inferrable from the input (e.g. \\texttt{SVector(1,2,3)} constructs an \\texttt{SVector\\{3, Int\\}}).\n",
       "\n",
       "\\begin{verbatim}\n",
       "SVector{S}(vec::Vector)\n",
       "\\end{verbatim}\n",
       "Construct a statically-sized vector of length \\texttt{S} using the data from \\texttt{vec}. The parameter \\texttt{S} is mandatory since the length of \\texttt{vec} is unknown to the compiler (the element type may optionally also be specified).\n",
       "\n"
      ],
      "text/markdown": [
       "```\n",
       "SVector{S, T}(x::NTuple{S, T})\n",
       "SVector{S, T}(x1, x2, x3, ...)\n",
       "```\n",
       "\n",
       "Construct a statically-sized vector `SVector`. Since this type is immutable, the data must be provided upon construction and cannot be mutated later. Constructors may drop the `T` and `S` parameters if they are inferrable from the input (e.g. `SVector(1,2,3)` constructs an `SVector{3, Int}`).\n",
       "\n",
       "```\n",
       "SVector{S}(vec::Vector)\n",
       "```\n",
       "\n",
       "Construct a statically-sized vector of length `S` using the data from `vec`. The parameter `S` is mandatory since the length of `vec` is unknown to the compiler (the element type may optionally also be specified).\n"
      ],
      "text/plain": [
       "\u001b[36m  SVector{S, T}(x::NTuple{S, T})\u001b[39m\n",
       "\u001b[36m  SVector{S, T}(x1, x2, x3, ...)\u001b[39m\n",
       "\n",
       "  Construct a statically-sized vector \u001b[36mSVector\u001b[39m. Since this type is immutable,\n",
       "  the data must be provided upon construction and cannot be mutated later.\n",
       "  Constructors may drop the \u001b[36mT\u001b[39m and \u001b[36mS\u001b[39m parameters if they are inferrable from the\n",
       "  input (e.g. \u001b[36mSVector(1,2,3)\u001b[39m constructs an \u001b[36mSVector{3, Int}\u001b[39m).\n",
       "\n",
       "\u001b[36m  SVector{S}(vec::Vector)\u001b[39m\n",
       "\n",
       "  Construct a statically-sized vector of length \u001b[36mS\u001b[39m using the data from \u001b[36mvec\u001b[39m. The\n",
       "  parameter \u001b[36mS\u001b[39m is mandatory since the length of \u001b[36mvec\u001b[39m is unknown to the compiler\n",
       "  (the element type may optionally also be specified)."
      ]
     },
     "execution_count": 15,
     "metadata": {},
     "output_type": "execute_result"
    }
   ],
   "source": [
    "?SVector"
   ]
  },
  {
   "cell_type": "code",
   "execution_count": 8,
   "metadata": {},
   "outputs": [
    {
     "data": {
      "text/plain": [
       "Array{T,1} where T"
      ]
     },
     "execution_count": 8,
     "metadata": {},
     "output_type": "execute_result"
    }
   ],
   "source": [
    "Vector"
   ]
  },
  {
   "cell_type": "code",
   "execution_count": 9,
   "metadata": {},
   "outputs": [
    {
     "ename": "UndefVarError",
     "evalue": "UndefVarError: V not defined",
     "output_type": "error",
     "traceback": [
      "UndefVarError: V not defined",
      "",
      "Stacktrace:",
      " [1] top-level scope at In[9]:1"
     ]
    }
   ],
   "source": [
    "V"
   ]
  },
  {
   "cell_type": "code",
   "execution_count": null,
   "metadata": {},
   "outputs": [],
   "source": []
  }
 ],
 "metadata": {
  "kernelspec": {
   "display_name": "Julia 1.3.0-rc1",
   "language": "julia",
   "name": "julia-1.3"
  },
  "language_info": {
   "file_extension": ".jl",
   "mimetype": "application/julia",
   "name": "julia",
   "version": "1.3.0"
  }
 },
 "nbformat": 4,
 "nbformat_minor": 2
}
